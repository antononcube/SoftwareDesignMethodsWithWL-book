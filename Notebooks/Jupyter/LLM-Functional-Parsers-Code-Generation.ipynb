{
 "cells": [
  {
   "cell_type": "markdown",
   "metadata": {},
   "source": [
    "-----\n",
    "\n",
    "## Setup"
   ]
  },
  {
   "cell_type": "code",
   "execution_count": 6,
   "metadata": {},
   "outputs": [],
   "source": [
    "use Data::Importers;\n",
    "use Markdown::Grammar;\n",
    "\n",
    "use EBNF::Grammar;\n",
    "use FunctionalParsers :ALL;\n",
    "use FunctionalParsers::EBNF;\n",
    "use Grammar::TokenProcessing;\n",
    "\n",
    "use JSON::Fast;\n",
    "use LLM::Configurations;"
   ]
  },
  {
   "cell_type": "markdown",
   "metadata": {},
   "source": [
    "-----\n",
    "\n",
    "## Translations"
   ]
  },
  {
   "cell_type": "code",
   "execution_count": 17,
   "metadata": {},
   "outputs": [
    {
     "data": {
      "text/plain": [
       "pTOP = ParseSequentialComposition[pWHO, ParseSequentialComposition[pVERB, pLANG]];\n",
       "pWHO = ParseAlternativeComposition[ParseSymbol[\"I\"], ParseSymbol[\"We\"]];\n",
       "pVERB = ParseApply[MyVerb, ParseAlternativeComposition[ParseSymbol[\"love\"], ParseSymbol[\"hate\"], ParseSymbol[\"like\"], ParseMany[ParseSymbol[\"❤️\"]], ParseSymbol[\"🤮\"]]];\n",
       "pLANG = ParseApply[MyLang, ParseAlternativeComposition[ParseSymbol[\"Julia\"], ParseSymbol[\"Perl\"], ParseSymbol[\"Python\"], ParseSymbol[\"R\"], ParseSymbol[\"Raku\"], ParseSymbol[\"WL\"]]];"
      ]
     },
     "execution_count": 17,
     "metadata": {},
     "output_type": "execute_result"
    }
   ],
   "source": [
    "my $ebnfCode1 = q:to/END/;\n",
    "<top> = <who> , <verb> , <lang> ;\n",
    "<who> = 'I' | 'We' ;\n",
    "<verb> = ( 'love' | 'hate' | 'like' | { '❤️' } | '🤮' ) <@ MyVerb ;\n",
    "<lang> = ( 'Julia' | 'Perl' | 'Python' | 'R' | 'Raku' | 'WL' ) <@ MyLang; \n",
    "END\n",
    "\n",
    "fp-ebnf-parse($ebnfCode1, target=>\"WL::Code\", dir-spec => 'LR').head.tail.join(\"\\n\")"
   ]
  },
  {
   "cell_type": "markdown",
   "metadata": {},
   "source": [
    "-----\n",
    "\n",
    "## Ingest Markdown dictionary"
   ]
  },
  {
   "cell_type": "code",
   "execution_count": 21,
   "metadata": {},
   "outputs": [
    {
     "data": {
      "text/plain": [
       "(chars => 1346 words => 151 lines => 41)"
      ]
     },
     "execution_count": 21,
     "metadata": {},
     "output_type": "execute_result"
    }
   ],
   "source": [
    "my $fileName = $*CWD ~ '/Functional-Parsers-WL-EBNF.md';\n",
    "my $mtext = slurp($fileName);\n",
    "\n",
    "text-stats($mtext)"
   ]
  },
  {
   "cell_type": "code",
   "execution_count": 22,
   "metadata": {},
   "outputs": [
    {
     "data": {
      "text/plain": [
       "[Functional Parsers (WL <-> EBNF) => [(Whatever) => () 1 => ({content => \n",
       ", level => 7, name => (Whatever), type => md-text-block} {content => ```ebnf\n",
       "<top> = <a> | <b> ;\n",
       "<a> = 'a' , { 'A' } , [ '1' ];\n",
       "<b> = 'b' , ( 'B' | '2' );\n",
       "```, level => 7, name => (Whatever), type => md-code-block} {content => \n",
       "\n",
       ", level => 7, name => (Whatever), type => md-text-block} {content => ```mathematica\n",
       "pTOP = ParseAlternativeComposition[pA, pB]; \n",
       "pA = ParseSequentialComposition[ParseSymbol[\"a\"], ParseSequentialComposition[ParseMany[ParseSymbol[\"A\"]], ParseOption[ParseSymbol[\"1\"]]]]; \n",
       "pB = ParseSequentialComposition[ParseSymbol[\"b\"], ParseAlternativeComposition[ParseSymbol[\"B\"], ParseSymbol[\"2\"]]];\n",
       "```, level => 7, name => (Whatever), type => md-code-block} {content => \n",
       "\n",
       ", level => 7, name => (Whatever), type => md-text-block}) 2 => ({content => \n",
       ", level => 7, name => (Whatever), type => md-text-block} {content => ```ebnf\n",
       "<args> = <newArg> | <oldArg> <@ MyFunc;\n",
       "```, level => 7, name => (Whatever), type => md-code-block} {content => \n",
       "\n",
       ", level => 7, name => (Whatever), type => md-text-block} {content => ```mathematica\n",
       "pARGS = ParseAlternativeComposition[pNEWARG, ParseApply[MyFunc, pOLDARG]];\n",
       "```, level => 7, name => (Whatever), type => md-code-block} {content => \n",
       "\n",
       ", level => 7, name => (Whatever), type => md-text-block}) 3 => ({content => \n",
       ", level => 7, name => (Whatever), type => md-text-block} {content => ```ebnf\n",
       "<top> = <who> , <verb> , <lang> ;\n",
       "<who> = 'I' | 'We' ;\n",
       "<verb> = ( 'love' | 'hate' | 'like' | { '❤️' } | '🤮' ) <@ MyVerb ;\n",
       "<lang> = ( 'Julia' | 'Perl' | 'Python' | 'R' | 'Raku' | 'WL' ) <@ MyLang; \n",
       "```, level => 7, name => (Whatever), type => md-code-block} {content => \n",
       "\n",
       ", level => 7, name => (Whatever), type => md-text-block} {content => ```mathematica\n",
       "pTOP = ParseSequentialComposition[pWHO, ParseSequentialComposition[pVERB, pLANG]];\n",
       "pWHO = ParseAlternativeComposition[ParseSymbol[\"I\"], ParseSymbol[\"We\"]];\n",
       "pVERB = ParseApply[MyVerb, ParseAlternativeComposition[ParseSymbol[\"love\"], ParseSymbol[\"hate\"], ParseSymbol[\"like\"], ParseMany[ParseSymbol[\"❤️\"]], ParseSymbol[\"🤮\"]]];\n",
       "pLANG = ParseApply[MyLang, ParseAlternativeComposition[ParseSymbol[\"Julia\"], ParseSymbol[\"Perl\"], ParseSymbol[\"Python\"], ParseSymbol[\"R\"], ParseSymbol[\"Raku\"], ParseSymbol[\"WL\"]]];\n",
       "```, level => 7, name => (Whatever), type => md-code-block} {content => \n",
       ", level => 7, name => (Whatever), type => md-text-block})]]"
      ]
     },
     "execution_count": 22,
     "metadata": {},
     "output_type": "execute_result"
    }
   ],
   "source": [
    "my @tree = md-section-tree($mtext);"
   ]
  },
  {
   "cell_type": "code",
   "execution_count": 23,
   "metadata": {},
   "outputs": [
    {
     "data": {
      "text/plain": [
       "[(Whatever) => () 1 => ({content => \n",
       ", level => 7, name => (Whatever), type => md-text-block} {content => ```ebnf\n",
       "<top> = <a> | <b> ;\n",
       "<a> = 'a' , { 'A' } , [ '1' ];\n",
       "<b> = 'b' , ( 'B' | '2' );\n",
       "```, level => 7, name => (Whatever), type => md-code-block} {content => \n",
       "\n",
       ", level => 7, name => (Whatever), type => md-text-block} {content => ```mathematica\n",
       "pTOP = ParseAlternativeComposition[pA, pB]; \n",
       "pA = ParseSequentialComposition[ParseSymbol[\"a\"], ParseSequentialComposition[ParseMany[ParseSymbol[\"A\"]], ParseOption[ParseSymbol[\"1\"]]]]; \n",
       "pB = ParseSequentialComposition[ParseSymbol[\"b\"], ParseAlternativeComposition[ParseSymbol[\"B\"], ParseSymbol[\"2\"]]];\n",
       "```, level => 7, name => (Whatever), type => md-code-block} {content => \n",
       "\n",
       ", level => 7, name => (Whatever), type => md-text-block}) 2 => ({content => \n",
       ", level => 7, name => (Whatever), type => md-text-block} {content => ```ebnf\n",
       "<args> = <newArg> | <oldArg> <@ MyFunc;\n",
       "```, level => 7, name => (Whatever), type => md-code-block} {content => \n",
       "\n",
       ", level => 7, name => (Whatever), type => md-text-block} {content => ```mathematica\n",
       "pARGS = ParseAlternativeComposition[pNEWARG, ParseApply[MyFunc, pOLDARG]];\n",
       "```, level => 7, name => (Whatever), type => md-code-block} {content => \n",
       "\n",
       ", level => 7, name => (Whatever), type => md-text-block}) 3 => ({content => \n",
       ", level => 7, name => (Whatever), type => md-text-block} {content => ```ebnf\n",
       "<top> = <who> , <verb> , <lang> ;\n",
       "<who> = 'I' | 'We' ;\n",
       "<verb> = ( 'love' | 'hate' | 'like' | { '❤️' } | '🤮' ) <@ MyVerb ;\n",
       "<lang> = ( 'Julia' | 'Perl' | 'Python' | 'R' | 'Raku' | 'WL' ) <@ MyLang; \n",
       "```, level => 7, name => (Whatever), type => md-code-block} {content => \n",
       "\n",
       ", level => 7, name => (Whatever), type => md-text-block} {content => ```mathematica\n",
       "pTOP = ParseSequentialComposition[pWHO, ParseSequentialComposition[pVERB, pLANG]];\n",
       "pWHO = ParseAlternativeComposition[ParseSymbol[\"I\"], ParseSymbol[\"We\"]];\n",
       "pVERB = ParseApply[MyVerb, ParseAlternativeComposition[ParseSymbol[\"love\"], ParseSymbol[\"hate\"], ParseSymbol[\"like\"], ParseMany[ParseSymbol[\"❤️\"]], ParseSymbol[\"🤮\"]]];\n",
       "pLANG = ParseApply[MyLang, ParseAlternativeComposition[ParseSymbol[\"Julia\"], ParseSymbol[\"Perl\"], ParseSymbol[\"Python\"], ParseSymbol[\"R\"], ParseSymbol[\"Raku\"], ParseSymbol[\"WL\"]]];\n",
       "```, level => 7, name => (Whatever), type => md-code-block} {content => \n",
       ", level => 7, name => (Whatever), type => md-text-block})]"
      ]
     },
     "execution_count": 23,
     "metadata": {},
     "output_type": "execute_result"
    }
   ],
   "source": [
    "@tree.head.value"
   ]
  },
  {
   "cell_type": "code",
   "execution_count": 24,
   "metadata": {},
   "outputs": [
    {
     "data": {
      "text/html": [
       "<ul><li><ul><li><table border=\"1\"><tr><th>(Whatever)</th><td></td></tr></table></li><li><table border=\"1\"><tr><th>1</th><td><table border=\"1\"><thead><tr><th>type</th><th>name</th><th>content</th><th>level</th></tr></thead><tbody><tr><td>md-text-block</td><td>(Whatever)</td><td>\n",
       "</td><td>7</td></tr><tr><td>md-code-block</td><td>(Whatever)</td><td>```ebnf\n",
       "&lt;top&gt; = &lt;a&gt; | &lt;b&gt; ;\n",
       "&lt;a&gt; = &#39;a&#39; , { &#39;A&#39; } , [ &#39;1&#39; ];\n",
       "&lt;b&gt; = &#39;b&#39; , ( &#39;B&#39; | &#39;2&#39; );\n",
       "```</td><td>7</td></tr><tr><td>md-text-block</td><td>(Whatever)</td><td>\n",
       "\n",
       "</td><td>7</td></tr><tr><td>md-code-block</td><td>(Whatever)</td><td>```mathematica\n",
       "pTOP = ParseAlternativeComposition[pA, pB]; \n",
       "pA = ParseSequentialComposition[ParseSymbol[&quot;a&quot;], ParseSequentialComposition[ParseMany[ParseSymbol[&quot;A&quot;]], ParseOption[ParseSymbol[&quot;1&quot;]]]]; \n",
       "pB = ParseSequentialComposition[ParseSymbol[&quot;b&quot;], ParseAlternativeComposition[ParseSymbol[&quot;B&quot;], ParseSymbol[&quot;2&quot;]]];\n",
       "```</td><td>7</td></tr><tr><td>md-text-block</td><td>(Whatever)</td><td>\n",
       "\n",
       "</td><td>7</td></tr></tbody></table></td></tr></table></li><li><table border=\"1\"><tr><th>2</th><td><table border=\"1\"><thead><tr><th>name</th><th>content</th><th>level</th><th>type</th></tr></thead><tbody><tr><td>(Whatever)</td><td>\n",
       "</td><td>7</td><td>md-text-block</td></tr><tr><td>(Whatever)</td><td>```ebnf\n",
       "&lt;args&gt; = &lt;newArg&gt; | &lt;oldArg&gt; &lt;@ MyFunc;\n",
       "```</td><td>7</td><td>md-code-block</td></tr><tr><td>(Whatever)</td><td>\n",
       "\n",
       "</td><td>7</td><td>md-text-block</td></tr><tr><td>(Whatever)</td><td>```mathematica\n",
       "pARGS = ParseAlternativeComposition[pNEWARG, ParseApply[MyFunc, pOLDARG]];\n",
       "```</td><td>7</td><td>md-code-block</td></tr><tr><td>(Whatever)</td><td>\n",
       "\n",
       "</td><td>7</td><td>md-text-block</td></tr></tbody></table></td></tr></table></li><li><table border=\"1\"><tr><th>3</th><td><table border=\"1\"><thead><tr><th>name</th><th>level</th><th>type</th><th>content</th></tr></thead><tbody><tr><td>(Whatever)</td><td>7</td><td>md-text-block</td><td>\n",
       "</td></tr><tr><td>(Whatever)</td><td>7</td><td>md-code-block</td><td>```ebnf\n",
       "&lt;top&gt; = &lt;who&gt; , &lt;verb&gt; , &lt;lang&gt; ;\n",
       "&lt;who&gt; = &#39;I&#39; | &#39;We&#39; ;\n",
       "&lt;verb&gt; = ( &#39;love&#39; | &#39;hate&#39; | &#39;like&#39; | { &#39;❤️&#39; } | &#39;🤮&#39; ) &lt;@ MyVerb ;\n",
       "&lt;lang&gt; = ( &#39;Julia&#39; | &#39;Perl&#39; | &#39;Python&#39; | &#39;R&#39; | &#39;Raku&#39; | &#39;WL&#39; ) &lt;@ MyLang; \n",
       "```</td></tr><tr><td>(Whatever)</td><td>7</td><td>md-text-block</td><td>\n",
       "\n",
       "</td></tr><tr><td>(Whatever)</td><td>7</td><td>md-code-block</td><td>```mathematica\n",
       "pTOP = ParseSequentialComposition[pWHO, ParseSequentialComposition[pVERB, pLANG]];\n",
       "pWHO = ParseAlternativeComposition[ParseSymbol[&quot;I&quot;], ParseSymbol[&quot;We&quot;]];\n",
       "pVERB = ParseApply[MyVerb, ParseAlternativeComposition[ParseSymbol[&quot;love&quot;], ParseSymbol[&quot;hate&quot;], ParseSymbol[&quot;like&quot;], ParseMany[ParseSymbol[&quot;❤️&quot;]], ParseSymbol[&quot;🤮&quot;]]];\n",
       "pLANG = ParseApply[MyLang, ParseAlternativeComposition[ParseSymbol[&quot;Julia&quot;], ParseSymbol[&quot;Perl&quot;], ParseSymbol[&quot;Python&quot;], ParseSymbol[&quot;R&quot;], ParseSymbol[&quot;Raku&quot;], ParseSymbol[&quot;WL&quot;]]];\n",
       "```</td></tr><tr><td>(Whatever)</td><td>7</td><td>md-text-block</td><td>\n",
       "</td></tr></tbody></table></td></tr></table></li></ul></li></ul>"
      ]
     },
     "execution_count": 24,
     "metadata": {},
     "output_type": "execute_result"
    }
   ],
   "source": [
    "#% html\n",
    "@tree.head.values ==> to-html"
   ]
  },
  {
   "cell_type": "code",
   "execution_count": 26,
   "metadata": {},
   "outputs": [
    {
     "data": {
      "text/plain": [
       "Tuple([Pair(Atom((Str)), Vector(Struct([content, level, name, type], [Str, Int, Whatever, Str]), 2)) => 3], 3)"
      ]
     },
     "execution_count": 26,
     "metadata": {},
     "output_type": "execute_result"
    }
   ],
   "source": [
    "my @dsCode = @tree.head.value.grep({ $_.key.defined && $_.value.defined && $_.elems }).map({ $_.key => $_.value.grep({ $_.<content>.trim.chars }).Array });;\n",
    "\n",
    "deduce-type(@dsCode):tally"
   ]
  },
  {
   "cell_type": "code",
   "execution_count": 27,
   "metadata": {},
   "outputs": [
    {
     "data": {
      "text/plain": [
       "{```mathematica\n",
       "pARGS = ParseAlternativeComposition[pNEWARG, ParseApply[MyFunc, pOLDARG]];\n",
       "``` => ```ebnf\n",
       "<args> = <newArg> | <oldArg> <@ MyFunc;\n",
       "```, ```mathematica\n",
       "pTOP = ParseAlternativeComposition[pA, pB]; \n",
       "pA = ParseSequentialComposition[ParseSymbol[\"a\"], ParseSequentialComposition[ParseMany[ParseSymbol[\"A\"]], ParseOption[ParseSymbol[\"1\"]]]]; \n",
       "pB = ParseSequentialComposition[ParseSymbol[\"b\"], ParseAlternativeComposition[ParseSymbol[\"B\"], ParseSymbol[\"2\"]]];\n",
       "``` => ```ebnf\n",
       "<top> = <a> | <b> ;\n",
       "<a> = 'a' , { 'A' } , [ '1' ];\n",
       "<b> = 'b' , ( 'B' | '2' );\n",
       "```, ```mathematica\n",
       "pTOP = ParseSequentialComposition[pWHO, ParseSequentialComposition[pVERB, pLANG]];\n",
       "pWHO = ParseAlternativeComposition[ParseSymbol[\"I\"], ParseSymbol[\"We\"]];\n",
       "pVERB = ParseApply[MyVerb, ParseAlternativeComposition[ParseSymbol[\"love\"], ParseSymbol[\"hate\"], ParseSymbol[\"like\"], ParseMany[ParseSymbol[\"❤️\"]], ParseSymbol[\"🤮\"]]];\n",
       "pLANG = ParseApply[MyLang, ParseAlternativeComposition[ParseSymbol[\"Julia\"], ParseSymbol[\"Perl\"], ParseSymbol[\"Python\"], ParseSymbol[\"R\"], ParseSymbol[\"Raku\"], ParseSymbol[\"WL\"]]];\n",
       "``` => ```ebnf\n",
       "<top> = <who> , <verb> , <lang> ;\n",
       "<who> = 'I' | 'We' ;\n",
       "<verb> = ( 'love' | 'hate' | 'like' | { '❤️' } | '🤮' ) <@ MyVerb ;\n",
       "<lang> = ( 'Julia' | 'Perl' | 'Python' | 'R' | 'Raku' | 'WL' ) <@ MyLang; \n",
       "```}"
      ]
     },
     "execution_count": 27,
     "metadata": {},
     "output_type": "execute_result"
    }
   ],
   "source": [
    "my %genRules = @dsCode.map({ $_.value.tail<content> => $_.value.head<content> })"
   ]
  },
  {
   "cell_type": "code",
   "execution_count": 28,
   "metadata": {},
   "outputs": [
    {
     "data": {
      "text/plain": [
       "You are a translator of natural language specifications or Extended Backus Naur Form (EBNF) specifications of formal grammars into Mathematica code.\n",
       "\n",
       "Here are example translations:\n",
       "\n",
       "\n",
       "Input:\n",
       "```mathematica\n",
       "pTOP = ParseAlternativeComposition[pA, pB]; \n",
       "pA = ParseSequentialComposition[ParseSymbol[\"a\"], ParseSequentialComposition[ParseMany[ParseSymbol[\"A\"]], ParseOption[ParseSymbol[\"1\"]]]]; \n",
       "pB = ParseSequentialComposition[ParseSymbol[\"b\"], ParseAlternativeComposition[ParseSymbol[\"B\"], ParseSymbol[\"2\"]]];\n",
       "```\n",
       "\n",
       "Output:\n",
       "```ebnf\n",
       "<top> = <a> | <b> ;\n",
       "<a> = 'a' , { 'A' } , [ '1' ];\n",
       "<b> = 'b' , ( 'B' | '2' );\n",
       "``` \n",
       "\n",
       "Input:\n",
       "```mathematica\n",
       "pARGS = ParseAlternativeComposition[pNEWARG, ParseApply[MyFunc, pOLDARG]];\n",
       "```\n",
       "\n",
       "Output:\n",
       "```ebnf\n",
       "<args> = <newArg> | <oldArg> <@ MyFunc;\n",
       "``` \n",
       "\n",
       "Input:\n",
       "```mathematica\n",
       "pTOP = ParseSequentialComposition[pWHO, ParseSequentialComposition[pVERB, pLANG]];\n",
       "pWHO = ParseAlternativeComposition[ParseSymbol[\"I\"], ParseSymbol[\"We\"]];\n",
       "pVERB = ParseApply[MyVerb, ParseAlternativeComposition[ParseSymbol[\"love\"], ParseSymbol[\"hate\"], ParseSymbol[\"like\"], ParseMany[ParseSymbol[\"❤️\"]], ParseSymbol[\"🤮\"]]];\n",
       "pLANG = ParseApply[MyLang, ParseAlternativeComposition[ParseSymbol[\"Julia\"], ParseSymbol[\"Perl\"], ParseSymbol[\"Python\"], ParseSymbol[\"R\"], ParseSymbol[\"Raku\"], ParseSymbol[\"WL\"]]];\n",
       "```\n",
       "\n",
       "Output:\n",
       "```ebnf\n",
       "<top> = <who> , <verb> , <lang> ;\n",
       "<who> = 'I' | 'We' ;\n",
       "<verb> = ( 'love' | 'hate' | 'like' | { '❤️' } | '🤮' ) <@ MyVerb ;\n",
       "<lang> = ( 'Julia' | 'Perl' | 'Python' | 'R' | 'Raku' | 'WL' ) <@ MyLang; \n",
       "```"
      ]
     },
     "execution_count": 28,
     "metadata": {},
     "output_type": "execute_result"
    }
   ],
   "source": [
    "my $prompt = q:to/END/;\n",
    "You are a translator of natural language specifications or Extended Backus Naur Form (EBNF) specifications of formal grammars into Mathematica code.\n",
    "\n",
    "Here are example translations:\n",
    "END\n",
    "\n",
    "$prompt = $prompt ~ %genRules.map({ \"\\n\\nInput:\\n{$_.key}\\n\\nOutput:\\n{$_.value}\"});"
   ]
  },
  {
   "cell_type": "markdown",
   "metadata": {},
   "source": [
    "-----\n",
    "\n",
    "## Experiments"
   ]
  },
  {
   "cell_type": "markdown",
   "metadata": {},
   "source": [
    "### Complicated prompt"
   ]
  },
  {
   "cell_type": "code",
   "execution_count": 29,
   "metadata": {},
   "outputs": [
    {
     "data": {
      "text/plain": [
       "```mathematica\n",
       "pEXPR = ParseAlternativeComposition[pTERM, ParseSequentialComposition[ParseSymbol[\"+\"], pEXPR]];\n",
       "pTERM = ParseAlternativeComposition[pFACTOR, ParseSequentialComposition[ParseSymbol[\"*\"], pTERM]];\n",
       "pFACTOR = ParseAlternativeComposition[ParseSymbol[\"(\"], ParseSequentialComposition[pEXPR, ParseSymbol[\")\"]], ParseSymbol[\"number\"]];\n",
       "```"
      ]
     },
     "execution_count": 29,
     "metadata": {},
     "output_type": "execute_result"
    }
   ],
   "source": [
    "my $res = llm-synthesize([\n",
    "    $prompt,\n",
    "    \"Translate the formal EBNF grammar for parsing arithmetic expressions.\",\n",
    "    llm-prompt('NothingElse')('Mathematica')\n",
    "    ],\n",
    "    e => $conf4o\n",
    ")"
   ]
  },
  {
   "cell_type": "code",
   "execution_count": null,
   "metadata": {},
   "outputs": [],
   "source": []
  }
 ],
 "metadata": {
  "kernelspec": {
   "display_name": "RakuChatbook",
   "language": "raku",
   "name": "raku"
  },
  "language_info": {
   "file_extension": ".raku",
   "mimetype": "text/x-raku",
   "name": "raku",
   "version": "6.d"
  }
 },
 "nbformat": 4,
 "nbformat_minor": 2
}
